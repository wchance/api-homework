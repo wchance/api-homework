{
 "cells": [
  {
   "cell_type": "markdown",
   "metadata": {},
   "source": [
    "# Unit 5 - Financial Planning\n"
   ]
  },
  {
   "cell_type": "code",
   "execution_count": 1,
   "metadata": {},
   "outputs": [],
   "source": [
    "# Initial imports\n",
    "import os\n",
    "import requests\n",
    "import pandas as pd\n",
    "from dotenv import load_dotenv\n",
    "import alpaca_trade_api as tradeapi\n",
    "from MCForecastTools import MCSimulation\n",
    "import json\n",
    "from datetime import date\n",
    "\n",
    "%matplotlib inline"
   ]
  },
  {
   "cell_type": "code",
   "execution_count": 2,
   "metadata": {},
   "outputs": [
    {
     "data": {
      "text/plain": [
       "True"
      ]
     },
     "execution_count": 2,
     "metadata": {},
     "output_type": "execute_result"
    }
   ],
   "source": [
    "# Load .env enviroment variables\n",
    "load_dotenv('api_keys.env')"
   ]
  },
  {
   "cell_type": "markdown",
   "metadata": {},
   "source": [
    "## Part 1 - Personal Finance Planner"
   ]
  },
  {
   "cell_type": "markdown",
   "metadata": {},
   "source": [
    "### Collect Crypto Prices Using the `requests` Library"
   ]
  },
  {
   "cell_type": "code",
   "execution_count": 3,
   "metadata": {},
   "outputs": [],
   "source": [
    "# Set current amount of crypto assets\n",
    "my_btc = 1.2\n",
    "my_eth = 5.3"
   ]
  },
  {
   "cell_type": "code",
   "execution_count": 4,
   "metadata": {},
   "outputs": [],
   "source": [
    "# Crypto API URLs\n",
    "btc_url = \"https://api.alternative.me/v2/ticker/Bitcoin/?convert=USD\"\n",
    "eth_url = \"https://api.alternative.me/v2/ticker/Ethereum/?convert=USD\""
   ]
  },
  {
   "cell_type": "code",
   "execution_count": 5,
   "metadata": {},
   "outputs": [
    {
     "name": "stdout",
     "output_type": "stream",
     "text": [
      "The current value of your 1.2 BTC is $67309.20\n",
      "The current value of your 5.3 ETH is $9095.22\n"
     ]
    }
   ],
   "source": [
    "# Fetch current BTC price\n",
    "btc_response = requests.get(btc_url)\n",
    "btc_data = btc_response.json()\n",
    "btc_price = btc_data['data']['1']['quotes']['USD']['price']\n",
    "\n",
    "# Fetch current ETH price\n",
    "eth_response = requests.get(eth_url)\n",
    "eth_data = eth_response.json()\n",
    "eth_price = eth_data['data']['1027']['quotes']['USD']['price']\n",
    "\n",
    "# Compute current value of my crpto\n",
    "my_btc_value = my_btc * btc_price\n",
    "my_eth_value = my_eth * eth_price\n",
    "\n",
    "# Print current crypto wallet balance\n",
    "print(f\"The current value of your {my_btc} BTC is ${my_btc_value:0.2f}\")\n",
    "print(f\"The current value of your {my_eth} ETH is ${my_eth_value:0.2f}\")"
   ]
  },
  {
   "cell_type": "markdown",
   "metadata": {},
   "source": [
    "### Collect Investments Data Using Alpaca: `SPY` (stocks) and `AGG` (bonds)"
   ]
  },
  {
   "cell_type": "code",
   "execution_count": 6,
   "metadata": {},
   "outputs": [],
   "source": [
    "# Current amount of shares\n",
    "my_agg = 200\n",
    "my_spy = 50"
   ]
  },
  {
   "cell_type": "code",
   "execution_count": 7,
   "metadata": {},
   "outputs": [],
   "source": [
    "# Set Alpaca API key and secret\n",
    "alpaca_api_key = os.getenv(\"ALPACA_API_KEY\")\n",
    "alpaca_secret_key = os.getenv(\"ALPACA_SECRET_KEY\")\n",
    "\n",
    "# Create the Alpaca API object\n",
    "api = tradeapi.REST(\n",
    "    alpaca_api_key,\n",
    "    alpaca_secret_key,\n",
    "    api_version = \"v2\"\n",
    ")"
   ]
  },
  {
   "cell_type": "code",
   "execution_count": 8,
   "metadata": {},
   "outputs": [
    {
     "data": {
      "text/html": [
       "<div>\n",
       "<style scoped>\n",
       "    .dataframe tbody tr th:only-of-type {\n",
       "        vertical-align: middle;\n",
       "    }\n",
       "\n",
       "    .dataframe tbody tr th {\n",
       "        vertical-align: top;\n",
       "    }\n",
       "\n",
       "    .dataframe thead tr th {\n",
       "        text-align: left;\n",
       "    }\n",
       "\n",
       "    .dataframe thead tr:last-of-type th {\n",
       "        text-align: right;\n",
       "    }\n",
       "</style>\n",
       "<table border=\"1\" class=\"dataframe\">\n",
       "  <thead>\n",
       "    <tr>\n",
       "      <th></th>\n",
       "      <th colspan=\"5\" halign=\"left\">AGG</th>\n",
       "      <th colspan=\"5\" halign=\"left\">SPY</th>\n",
       "    </tr>\n",
       "    <tr>\n",
       "      <th></th>\n",
       "      <th>open</th>\n",
       "      <th>high</th>\n",
       "      <th>low</th>\n",
       "      <th>close</th>\n",
       "      <th>volume</th>\n",
       "      <th>open</th>\n",
       "      <th>high</th>\n",
       "      <th>low</th>\n",
       "      <th>close</th>\n",
       "      <th>volume</th>\n",
       "    </tr>\n",
       "    <tr>\n",
       "      <th>time</th>\n",
       "      <th></th>\n",
       "      <th></th>\n",
       "      <th></th>\n",
       "      <th></th>\n",
       "      <th></th>\n",
       "      <th></th>\n",
       "      <th></th>\n",
       "      <th></th>\n",
       "      <th></th>\n",
       "      <th></th>\n",
       "    </tr>\n",
       "  </thead>\n",
       "  <tbody>\n",
       "    <tr>\n",
       "      <th>2021-03-26 00:00:00-04:00</th>\n",
       "      <td>113.91</td>\n",
       "      <td>114.075</td>\n",
       "      <td>113.86</td>\n",
       "      <td>113.93</td>\n",
       "      <td>3287634</td>\n",
       "      <td>390.93</td>\n",
       "      <td>396.41</td>\n",
       "      <td>390.29</td>\n",
       "      <td>395.99</td>\n",
       "      <td>90959116</td>\n",
       "    </tr>\n",
       "  </tbody>\n",
       "</table>\n",
       "</div>"
      ],
      "text/plain": [
       "                              AGG                                       SPY  \\\n",
       "                             open     high     low   close   volume    open   \n",
       "time                                                                          \n",
       "2021-03-26 00:00:00-04:00  113.91  114.075  113.86  113.93  3287634  390.93   \n",
       "\n",
       "                                                             \n",
       "                             high     low   close    volume  \n",
       "time                                                         \n",
       "2021-03-26 00:00:00-04:00  396.41  390.29  395.99  90959116  "
      ]
     },
     "execution_count": 8,
     "metadata": {},
     "output_type": "execute_result"
    }
   ],
   "source": [
    "# Format current date as ISO format\n",
    "#today = pd.Timestamp(date.today(), tz=\"America/New_York\").isoformat()\n",
    "today = pd.Timestamp('2021-03-26', tz=\"America/New_York\").isoformat()\n",
    "\n",
    "# Set the tickers\n",
    "tickers = [\"AGG\", \"SPY\"]\n",
    "\n",
    "# Set timeframe to '1D' for Alpaca API\n",
    "timeframe = \"1D\"\n",
    "\n",
    "# Get current closing prices for SPY and AGG\n",
    "df_portfolio = api.get_barset(\n",
    "    tickers,\n",
    "    timeframe,\n",
    "    start = today,\n",
    "    end = today\n",
    ").df\n",
    "\n",
    "# Preview DataFrame\n",
    "df_portfolio"
   ]
  },
  {
   "cell_type": "code",
   "execution_count": 9,
   "metadata": {},
   "outputs": [
    {
     "name": "stdout",
     "output_type": "stream",
     "text": [
      "Current AGG closing price: $113.93\n",
      "Current SPY closing price: $395.99\n"
     ]
    }
   ],
   "source": [
    "# Pick AGG and SPY close prices\n",
    "#agg_close_price = df_portfolio['AGG']['close']\n",
    "agg_close_price = df_portfolio.iloc[0][3]\n",
    "#spy_close_price = df_portfolio['SPY']['close']\n",
    "spy_close_price = df_portfolio.iloc[0][8]\n",
    "\n",
    "# Print AGG and SPY close prices\n",
    "print(f\"Current AGG closing price: ${agg_close_price}\")\n",
    "print(f\"Current SPY closing price: ${spy_close_price}\")"
   ]
  },
  {
   "cell_type": "code",
   "execution_count": 10,
   "metadata": {},
   "outputs": [
    {
     "name": "stdout",
     "output_type": "stream",
     "text": [
      "The current value of your 50 SPY shares is $19799.50\n",
      "The current value of your 200 AGG shares is $22786.00\n"
     ]
    }
   ],
   "source": [
    "# Compute the current value of shares\n",
    "my_spy_value = my_spy * spy_close_price\n",
    "my_agg_value = my_agg * agg_close_price\n",
    "\n",
    "# Print current value of share\n",
    "print(f\"The current value of your {my_spy} SPY shares is ${my_spy_value:0.2f}\")\n",
    "print(f\"The current value of your {my_agg} AGG shares is ${my_agg_value:0.2f}\")"
   ]
  },
  {
   "cell_type": "markdown",
   "metadata": {},
   "source": [
    "### Savings Health Analysis"
   ]
  },
  {
   "cell_type": "code",
   "execution_count": 11,
   "metadata": {},
   "outputs": [
    {
     "data": {
      "text/html": [
       "<div>\n",
       "<style scoped>\n",
       "    .dataframe tbody tr th:only-of-type {\n",
       "        vertical-align: middle;\n",
       "    }\n",
       "\n",
       "    .dataframe tbody tr th {\n",
       "        vertical-align: top;\n",
       "    }\n",
       "\n",
       "    .dataframe thead th {\n",
       "        text-align: right;\n",
       "    }\n",
       "</style>\n",
       "<table border=\"1\" class=\"dataframe\">\n",
       "  <thead>\n",
       "    <tr style=\"text-align: right;\">\n",
       "      <th></th>\n",
       "      <th>amount</th>\n",
       "    </tr>\n",
       "  </thead>\n",
       "  <tbody>\n",
       "    <tr>\n",
       "      <th>crypto</th>\n",
       "      <td>76404.424</td>\n",
       "    </tr>\n",
       "    <tr>\n",
       "      <th>shares</th>\n",
       "      <td>42585.500</td>\n",
       "    </tr>\n",
       "  </tbody>\n",
       "</table>\n",
       "</div>"
      ],
      "text/plain": [
       "           amount\n",
       "crypto  76404.424\n",
       "shares  42585.500"
      ]
     },
     "metadata": {},
     "output_type": "display_data"
    }
   ],
   "source": [
    "# Set monthly household income\n",
    "monthly_income = 12000\n",
    "\n",
    "# Create savings DataFrame\n",
    "df_savings = pd.DataFrame({\"amount\":[my_btc_value+my_eth_value,my_spy_value+my_agg_value]})\n",
    "df_savings.index = ['crypto','shares']\n",
    "\n",
    "# Display savings DataFrame\n",
    "display(df_savings)"
   ]
  },
  {
   "cell_type": "code",
   "execution_count": 12,
   "metadata": {},
   "outputs": [
    {
     "data": {
      "text/plain": [
       "<AxesSubplot:ylabel='amount'>"
      ]
     },
     "execution_count": 12,
     "metadata": {},
     "output_type": "execute_result"
    },
    {
     "data": {
      "image/png": "[encoded data removed]",
      "text/plain": [
       "<Figure size 432x288 with 1 Axes>"
      ]
     },
     "metadata": {},
     "output_type": "display_data"
    }
   ],
   "source": [
    "# Plot savings pie chart\n",
    "df_savings.plot.pie(y='amount')"
   ]
  },
  {
   "cell_type": "code",
   "execution_count": 13,
   "metadata": {},
   "outputs": [
    {
     "name": "stdout",
     "output_type": "stream",
     "text": [
      "Congratulations you have enough money in your fund!\n"
     ]
    }
   ],
   "source": [
    "# Set ideal emergency fund\n",
    "emergency_fund = monthly_income * 3\n",
    "\n",
    "# Calculate total amount of savings\n",
    "total_savings = df_savings['amount'].sum()\n",
    "\n",
    "# Validate saving health\n",
    "if total_savings > emergency_fund:\n",
    "    print('Congratulations you have enough money in your fund!')\n",
    "elif total_savings == emergency_fund:\n",
    "    print('Congratulations on reaching your goal!')\n",
    "elif total_savings < emergency_fund:\n",
    "    print(f'You are ${emergency_fund-total_savings} away from reaching the goal')"
   ]
  },
  {
   "cell_type": "markdown",
   "metadata": {},
   "source": [
    "## Part 2 - Retirement Planning\n",
    "\n",
    "### Monte Carlo Simulation"
   ]
  },
  {
   "cell_type": "code",
   "execution_count": 14,
   "metadata": {},
   "outputs": [],
   "source": [
    "# Set start and end dates of five years back from today.\n",
    "# Sample results may vary from the solution based on the time frame chosen\n",
    "start_date = pd.Timestamp('2016-03-26', tz='America/New_York').isoformat()\n",
    "end_date = pd.Timestamp('2021-03-26', tz='America/New_York').isoformat()"
   ]
  },
  {
   "cell_type": "code",
   "execution_count": 15,
   "metadata": {},
   "outputs": [
    {
     "data": {
      "text/html": [
       "<div>\n",
       "<style scoped>\n",
       "    .dataframe tbody tr th:only-of-type {\n",
       "        vertical-align: middle;\n",
       "    }\n",
       "\n",
       "    .dataframe tbody tr th {\n",
       "        vertical-align: top;\n",
       "    }\n",
       "\n",
       "    .dataframe thead tr th {\n",
       "        text-align: left;\n",
       "    }\n",
       "\n",
       "    .dataframe thead tr:last-of-type th {\n",
       "        text-align: right;\n",
       "    }\n",
       "</style>\n",
       "<table border=\"1\" class=\"dataframe\">\n",
       "  <thead>\n",
       "    <tr>\n",
       "      <th></th>\n",
       "      <th colspan=\"5\" halign=\"left\">AGG</th>\n",
       "      <th colspan=\"5\" halign=\"left\">SPY</th>\n",
       "    </tr>\n",
       "    <tr>\n",
       "      <th></th>\n",
       "      <th>open</th>\n",
       "      <th>high</th>\n",
       "      <th>low</th>\n",
       "      <th>close</th>\n",
       "      <th>volume</th>\n",
       "      <th>open</th>\n",
       "      <th>high</th>\n",
       "      <th>low</th>\n",
       "      <th>close</th>\n",
       "      <th>volume</th>\n",
       "    </tr>\n",
       "    <tr>\n",
       "      <th>time</th>\n",
       "      <th></th>\n",
       "      <th></th>\n",
       "      <th></th>\n",
       "      <th></th>\n",
       "      <th></th>\n",
       "      <th></th>\n",
       "      <th></th>\n",
       "      <th></th>\n",
       "      <th></th>\n",
       "      <th></th>\n",
       "    </tr>\n",
       "  </thead>\n",
       "  <tbody>\n",
       "    <tr>\n",
       "      <th>2017-04-06 00:00:00-04:00</th>\n",
       "      <td>108.64</td>\n",
       "      <td>108.71</td>\n",
       "      <td>108.4800</td>\n",
       "      <td>108.67</td>\n",
       "      <td>1599535</td>\n",
       "      <td>234.95</td>\n",
       "      <td>236.040</td>\n",
       "      <td>234.425</td>\n",
       "      <td>235.39</td>\n",
       "      <td>53559902</td>\n",
       "    </tr>\n",
       "    <tr>\n",
       "      <th>2017-04-07 00:00:00-04:00</th>\n",
       "      <td>108.80</td>\n",
       "      <td>108.89</td>\n",
       "      <td>108.4200</td>\n",
       "      <td>108.44</td>\n",
       "      <td>1668826</td>\n",
       "      <td>235.15</td>\n",
       "      <td>236.000</td>\n",
       "      <td>234.640</td>\n",
       "      <td>235.17</td>\n",
       "      <td>53293901</td>\n",
       "    </tr>\n",
       "    <tr>\n",
       "      <th>2017-04-10 00:00:00-04:00</th>\n",
       "      <td>108.53</td>\n",
       "      <td>108.65</td>\n",
       "      <td>108.4901</td>\n",
       "      <td>108.57</td>\n",
       "      <td>1751500</td>\n",
       "      <td>235.36</td>\n",
       "      <td>236.255</td>\n",
       "      <td>234.730</td>\n",
       "      <td>235.32</td>\n",
       "      <td>46610548</td>\n",
       "    </tr>\n",
       "    <tr>\n",
       "      <th>2017-04-11 00:00:00-04:00</th>\n",
       "      <td>108.76</td>\n",
       "      <td>108.98</td>\n",
       "      <td>108.7500</td>\n",
       "      <td>108.90</td>\n",
       "      <td>2054745</td>\n",
       "      <td>234.87</td>\n",
       "      <td>235.180</td>\n",
       "      <td>233.340</td>\n",
       "      <td>235.04</td>\n",
       "      <td>63951745</td>\n",
       "    </tr>\n",
       "    <tr>\n",
       "      <th>2017-04-12 00:00:00-04:00</th>\n",
       "      <td>108.93</td>\n",
       "      <td>109.20</td>\n",
       "      <td>108.8900</td>\n",
       "      <td>109.14</td>\n",
       "      <td>2243678</td>\n",
       "      <td>234.74</td>\n",
       "      <td>234.960</td>\n",
       "      <td>233.770</td>\n",
       "      <td>234.10</td>\n",
       "      <td>55338215</td>\n",
       "    </tr>\n",
       "  </tbody>\n",
       "</table>\n",
       "</div>"
      ],
      "text/plain": [
       "                              AGG                                        SPY  \\\n",
       "                             open    high       low   close   volume    open   \n",
       "time                                                                           \n",
       "2017-04-06 00:00:00-04:00  108.64  108.71  108.4800  108.67  1599535  234.95   \n",
       "2017-04-07 00:00:00-04:00  108.80  108.89  108.4200  108.44  1668826  235.15   \n",
       "2017-04-10 00:00:00-04:00  108.53  108.65  108.4901  108.57  1751500  235.36   \n",
       "2017-04-11 00:00:00-04:00  108.76  108.98  108.7500  108.90  2054745  234.87   \n",
       "2017-04-12 00:00:00-04:00  108.93  109.20  108.8900  109.14  2243678  234.74   \n",
       "\n",
       "                                                               \n",
       "                              high      low   close    volume  \n",
       "time                                                           \n",
       "2017-04-06 00:00:00-04:00  236.040  234.425  235.39  53559902  \n",
       "2017-04-07 00:00:00-04:00  236.000  234.640  235.17  53293901  \n",
       "2017-04-10 00:00:00-04:00  236.255  234.730  235.32  46610548  \n",
       "2017-04-11 00:00:00-04:00  235.180  233.340  235.04  63951745  \n",
       "2017-04-12 00:00:00-04:00  234.960  233.770  234.10  55338215  "
      ]
     },
     "execution_count": 15,
     "metadata": {},
     "output_type": "execute_result"
    }
   ],
   "source": [
    "# Get 5 years' worth of historical data for SPY and AGG\n",
    "tickers = ['SPY', 'AGG']\n",
    "df_stock_data = api.get_barset(\n",
    "    tickers,\n",
    "    timeframe,\n",
    "    start=start_date,\n",
    "    end=end_date,\n",
    "    limit=1000,\n",
    ").df\n",
    "\n",
    "# Display sample data\n",
    "df_stock_data.head()"
   ]
  },
  {
   "cell_type": "code",
   "execution_count": 16,
   "metadata": {},
   "outputs": [],
   "source": [
    "# Configuring a Monte Carlo simulation to forecast 30 years cumulative returns\n",
    "#Set number of simulations\n",
    "num_sims = 500\n",
    "\n",
    "# Configure a Monte Carlo simulation to forecast three years daily returns\n",
    "MC_thirty_year = MCSimulation(\n",
    "    portfolio_data = df_stock_data,\n",
    "    weights = [0.4,0.6],\n",
    "    num_simulation = num_sims,\n",
    "    num_trading_days = 252 * 30\n",
    ")"
   ]
  },
  {
   "cell_type": "code",
   "execution_count": 17,
   "metadata": {},
   "outputs": [],
   "source": [
    "# Printing the simulation input data\n"
   ]
  },
  {
   "cell_type": "code",
   "execution_count": 18,
   "metadata": {},
   "outputs": [
    {
     "name": "stdout",
     "output_type": "stream",
     "text": [
      "Running Monte Carlo simulation number 0.\n",
      "Running Monte Carlo simulation number 10.\n",
      "Running Monte Carlo simulation number 20.\n",
      "Running Monte Carlo simulation number 30.\n",
      "Running Monte Carlo simulation number 40.\n",
      "Running Monte Carlo simulation number 50.\n",
      "Running Monte Carlo simulation number 60.\n",
      "Running Monte Carlo simulation number 70.\n",
      "Running Monte Carlo simulation number 80.\n",
      "Running Monte Carlo simulation number 90.\n",
      "Running Monte Carlo simulation number 100.\n",
      "Running Monte Carlo simulation number 110.\n",
      "Running Monte Carlo simulation number 120.\n",
      "Running Monte Carlo simulation number 130.\n",
      "Running Monte Carlo simulation number 140.\n",
      "Running Monte Carlo simulation number 150.\n",
      "Running Monte Carlo simulation number 160.\n",
      "Running Monte Carlo simulation number 170.\n",
      "Running Monte Carlo simulation number 180.\n",
      "Running Monte Carlo simulation number 190.\n",
      "Running Monte Carlo simulation number 200.\n",
      "Running Monte Carlo simulation number 210.\n",
      "Running Monte Carlo simulation number 220.\n",
      "Running Monte Carlo simulation number 230.\n",
      "Running Monte Carlo simulation number 240.\n",
      "Running Monte Carlo simulation number 250.\n",
      "Running Monte Carlo simulation number 260.\n",
      "Running Monte Carlo simulation number 270.\n",
      "Running Monte Carlo simulation number 280.\n",
      "Running Monte Carlo simulation number 290.\n",
      "Running Monte Carlo simulation number 300.\n",
      "Running Monte Carlo simulation number 310.\n",
      "Running Monte Carlo simulation number 320.\n",
      "Running Monte Carlo simulation number 330.\n",
      "Running Monte Carlo simulation number 340.\n",
      "Running Monte Carlo simulation number 350.\n",
      "Running Monte Carlo simulation number 360.\n",
      "Running Monte Carlo simulation number 370.\n",
      "Running Monte Carlo simulation number 380.\n",
      "Running Monte Carlo simulation number 390.\n",
      "Running Monte Carlo simulation number 400.\n",
      "Running Monte Carlo simulation number 410.\n",
      "Running Monte Carlo simulation number 420.\n",
      "Running Monte Carlo simulation number 430.\n",
      "Running Monte Carlo simulation number 440.\n",
      "Running Monte Carlo simulation number 450.\n",
      "Running Monte Carlo simulation number 460.\n",
      "Running Monte Carlo simulation number 470.\n",
      "Running Monte Carlo simulation number 480.\n",
      "Running Monte Carlo simulation number 490.\n"
     ]
    },
    {
     "data": {
      "text/html": [
       "<div>\n",
       "<style scoped>\n",
       "    .dataframe tbody tr th:only-of-type {\n",
       "        vertical-align: middle;\n",
       "    }\n",
       "\n",
       "    .dataframe tbody tr th {\n",
       "        vertical-align: top;\n",
       "    }\n",
       "\n",
       "    .dataframe thead th {\n",
       "        text-align: right;\n",
       "    }\n",
       "</style>\n",
       "<table border=\"1\" class=\"dataframe\">\n",
       "  <thead>\n",
       "    <tr style=\"text-align: right;\">\n",
       "      <th></th>\n",
       "      <th>0</th>\n",
       "      <th>1</th>\n",
       "      <th>2</th>\n",
       "      <th>3</th>\n",
       "      <th>4</th>\n",
       "      <th>5</th>\n",
       "      <th>6</th>\n",
       "      <th>7</th>\n",
       "      <th>8</th>\n",
       "      <th>9</th>\n",
       "      <th>...</th>\n",
       "      <th>490</th>\n",
       "      <th>491</th>\n",
       "      <th>492</th>\n",
       "      <th>493</th>\n",
       "      <th>494</th>\n",
       "      <th>495</th>\n",
       "      <th>496</th>\n",
       "      <th>497</th>\n",
       "      <th>498</th>\n",
       "      <th>499</th>\n",
       "    </tr>\n",
       "  </thead>\n",
       "  <tbody>\n",
       "    <tr>\n",
       "      <th>0</th>\n",
       "      <td>1.000000</td>\n",
       "      <td>1.000000</td>\n",
       "      <td>1.000000</td>\n",
       "      <td>1.000000</td>\n",
       "      <td>1.000000</td>\n",
       "      <td>1.000000</td>\n",
       "      <td>1.000000</td>\n",
       "      <td>1.000000</td>\n",
       "      <td>1.000000</td>\n",
       "      <td>1.000000</td>\n",
       "      <td>...</td>\n",
       "      <td>1.000000</td>\n",
       "      <td>1.000000</td>\n",
       "      <td>1.000000</td>\n",
       "      <td>1.000000</td>\n",
       "      <td>1.000000</td>\n",
       "      <td>1.000000</td>\n",
       "      <td>1.000000</td>\n",
       "      <td>1.000000</td>\n",
       "      <td>1.000000</td>\n",
       "      <td>1.000000</td>\n",
       "    </tr>\n",
       "    <tr>\n",
       "      <th>1</th>\n",
       "      <td>0.991675</td>\n",
       "      <td>0.995626</td>\n",
       "      <td>1.013392</td>\n",
       "      <td>1.005113</td>\n",
       "      <td>0.991527</td>\n",
       "      <td>0.991549</td>\n",
       "      <td>1.002179</td>\n",
       "      <td>1.007175</td>\n",
       "      <td>1.000069</td>\n",
       "      <td>1.002662</td>\n",
       "      <td>...</td>\n",
       "      <td>0.991508</td>\n",
       "      <td>1.002770</td>\n",
       "      <td>0.995098</td>\n",
       "      <td>0.993457</td>\n",
       "      <td>1.000984</td>\n",
       "      <td>0.994313</td>\n",
       "      <td>0.997466</td>\n",
       "      <td>1.008094</td>\n",
       "      <td>1.009282</td>\n",
       "      <td>0.995774</td>\n",
       "    </tr>\n",
       "    <tr>\n",
       "      <th>2</th>\n",
       "      <td>0.986793</td>\n",
       "      <td>1.006891</td>\n",
       "      <td>1.025244</td>\n",
       "      <td>1.012677</td>\n",
       "      <td>0.996536</td>\n",
       "      <td>0.997870</td>\n",
       "      <td>1.010823</td>\n",
       "      <td>1.002064</td>\n",
       "      <td>0.991717</td>\n",
       "      <td>1.001828</td>\n",
       "      <td>...</td>\n",
       "      <td>1.002777</td>\n",
       "      <td>1.015945</td>\n",
       "      <td>0.998633</td>\n",
       "      <td>1.001827</td>\n",
       "      <td>1.000546</td>\n",
       "      <td>0.995871</td>\n",
       "      <td>0.989006</td>\n",
       "      <td>1.004199</td>\n",
       "      <td>1.008434</td>\n",
       "      <td>1.007125</td>\n",
       "    </tr>\n",
       "    <tr>\n",
       "      <th>3</th>\n",
       "      <td>0.980618</td>\n",
       "      <td>1.005897</td>\n",
       "      <td>1.045467</td>\n",
       "      <td>1.007642</td>\n",
       "      <td>0.982207</td>\n",
       "      <td>1.002420</td>\n",
       "      <td>1.001262</td>\n",
       "      <td>1.000917</td>\n",
       "      <td>0.990394</td>\n",
       "      <td>0.995294</td>\n",
       "      <td>...</td>\n",
       "      <td>0.997624</td>\n",
       "      <td>1.019968</td>\n",
       "      <td>1.003976</td>\n",
       "      <td>1.009768</td>\n",
       "      <td>1.003019</td>\n",
       "      <td>1.000703</td>\n",
       "      <td>0.998041</td>\n",
       "      <td>1.017954</td>\n",
       "      <td>0.993500</td>\n",
       "      <td>1.010435</td>\n",
       "    </tr>\n",
       "    <tr>\n",
       "      <th>4</th>\n",
       "      <td>0.973213</td>\n",
       "      <td>1.008768</td>\n",
       "      <td>1.051655</td>\n",
       "      <td>0.999143</td>\n",
       "      <td>0.980868</td>\n",
       "      <td>0.994013</td>\n",
       "      <td>1.014645</td>\n",
       "      <td>0.997730</td>\n",
       "      <td>1.000686</td>\n",
       "      <td>1.002188</td>\n",
       "      <td>...</td>\n",
       "      <td>0.999802</td>\n",
       "      <td>1.024507</td>\n",
       "      <td>1.009072</td>\n",
       "      <td>1.030964</td>\n",
       "      <td>1.007603</td>\n",
       "      <td>1.001113</td>\n",
       "      <td>1.007433</td>\n",
       "      <td>1.023819</td>\n",
       "      <td>0.995442</td>\n",
       "      <td>1.017820</td>\n",
       "    </tr>\n",
       "    <tr>\n",
       "      <th>...</th>\n",
       "      <td>...</td>\n",
       "      <td>...</td>\n",
       "      <td>...</td>\n",
       "      <td>...</td>\n",
       "      <td>...</td>\n",
       "      <td>...</td>\n",
       "      <td>...</td>\n",
       "      <td>...</td>\n",
       "      <td>...</td>\n",
       "      <td>...</td>\n",
       "      <td>...</td>\n",
       "      <td>...</td>\n",
       "      <td>...</td>\n",
       "      <td>...</td>\n",
       "      <td>...</td>\n",
       "      <td>...</td>\n",
       "      <td>...</td>\n",
       "      <td>...</td>\n",
       "      <td>...</td>\n",
       "      <td>...</td>\n",
       "      <td>...</td>\n",
       "    </tr>\n",
       "    <tr>\n",
       "      <th>7556</th>\n",
       "      <td>20.678939</td>\n",
       "      <td>28.980708</td>\n",
       "      <td>6.735699</td>\n",
       "      <td>7.194222</td>\n",
       "      <td>12.237593</td>\n",
       "      <td>5.415896</td>\n",
       "      <td>29.064411</td>\n",
       "      <td>57.823529</td>\n",
       "      <td>10.407945</td>\n",
       "      <td>6.281341</td>\n",
       "      <td>...</td>\n",
       "      <td>31.776073</td>\n",
       "      <td>10.196039</td>\n",
       "      <td>14.216462</td>\n",
       "      <td>5.378443</td>\n",
       "      <td>12.580651</td>\n",
       "      <td>20.446188</td>\n",
       "      <td>11.085683</td>\n",
       "      <td>3.370112</td>\n",
       "      <td>26.600725</td>\n",
       "      <td>12.323764</td>\n",
       "    </tr>\n",
       "    <tr>\n",
       "      <th>7557</th>\n",
       "      <td>21.070344</td>\n",
       "      <td>28.965298</td>\n",
       "      <td>6.693076</td>\n",
       "      <td>7.225325</td>\n",
       "      <td>12.103155</td>\n",
       "      <td>5.423461</td>\n",
       "      <td>29.062760</td>\n",
       "      <td>57.442520</td>\n",
       "      <td>10.404651</td>\n",
       "      <td>6.292174</td>\n",
       "      <td>...</td>\n",
       "      <td>31.770150</td>\n",
       "      <td>10.233151</td>\n",
       "      <td>14.533273</td>\n",
       "      <td>5.414326</td>\n",
       "      <td>12.805955</td>\n",
       "      <td>20.252769</td>\n",
       "      <td>11.000651</td>\n",
       "      <td>3.323945</td>\n",
       "      <td>26.942773</td>\n",
       "      <td>12.267108</td>\n",
       "    </tr>\n",
       "    <tr>\n",
       "      <th>7558</th>\n",
       "      <td>21.164879</td>\n",
       "      <td>29.143240</td>\n",
       "      <td>6.607739</td>\n",
       "      <td>7.269915</td>\n",
       "      <td>12.353090</td>\n",
       "      <td>5.427556</td>\n",
       "      <td>28.967611</td>\n",
       "      <td>57.679175</td>\n",
       "      <td>10.500847</td>\n",
       "      <td>6.311875</td>\n",
       "      <td>...</td>\n",
       "      <td>31.739344</td>\n",
       "      <td>10.246673</td>\n",
       "      <td>14.676349</td>\n",
       "      <td>5.483810</td>\n",
       "      <td>12.660433</td>\n",
       "      <td>20.020179</td>\n",
       "      <td>11.084071</td>\n",
       "      <td>3.332877</td>\n",
       "      <td>27.218556</td>\n",
       "      <td>12.177615</td>\n",
       "    </tr>\n",
       "    <tr>\n",
       "      <th>7559</th>\n",
       "      <td>21.368275</td>\n",
       "      <td>29.190848</td>\n",
       "      <td>6.629180</td>\n",
       "      <td>7.275595</td>\n",
       "      <td>12.321595</td>\n",
       "      <td>5.395195</td>\n",
       "      <td>28.745747</td>\n",
       "      <td>57.699826</td>\n",
       "      <td>10.419610</td>\n",
       "      <td>6.288269</td>\n",
       "      <td>...</td>\n",
       "      <td>31.606999</td>\n",
       "      <td>10.170938</td>\n",
       "      <td>14.470347</td>\n",
       "      <td>5.484988</td>\n",
       "      <td>12.726539</td>\n",
       "      <td>20.049992</td>\n",
       "      <td>10.989991</td>\n",
       "      <td>3.306674</td>\n",
       "      <td>27.286021</td>\n",
       "      <td>12.172334</td>\n",
       "    </tr>\n",
       "    <tr>\n",
       "      <th>7560</th>\n",
       "      <td>21.693516</td>\n",
       "      <td>29.064414</td>\n",
       "      <td>6.554060</td>\n",
       "      <td>7.261614</td>\n",
       "      <td>12.328615</td>\n",
       "      <td>5.316804</td>\n",
       "      <td>28.809580</td>\n",
       "      <td>57.435402</td>\n",
       "      <td>10.505760</td>\n",
       "      <td>6.334693</td>\n",
       "      <td>...</td>\n",
       "      <td>31.817108</td>\n",
       "      <td>10.331569</td>\n",
       "      <td>14.453698</td>\n",
       "      <td>5.525018</td>\n",
       "      <td>12.815989</td>\n",
       "      <td>20.102334</td>\n",
       "      <td>10.964438</td>\n",
       "      <td>3.303515</td>\n",
       "      <td>27.552002</td>\n",
       "      <td>12.178798</td>\n",
       "    </tr>\n",
       "  </tbody>\n",
       "</table>\n",
       "<p>7561 rows × 500 columns</p>\n",
       "</div>"
      ],
      "text/plain": [
       "            0          1         2         3          4         5    \\\n",
       "0      1.000000   1.000000  1.000000  1.000000   1.000000  1.000000   \n",
       "1      0.991675   0.995626  1.013392  1.005113   0.991527  0.991549   \n",
       "2      0.986793   1.006891  1.025244  1.012677   0.996536  0.997870   \n",
       "3      0.980618   1.005897  1.045467  1.007642   0.982207  1.002420   \n",
       "4      0.973213   1.008768  1.051655  0.999143   0.980868  0.994013   \n",
       "...         ...        ...       ...       ...        ...       ...   \n",
       "7556  20.678939  28.980708  6.735699  7.194222  12.237593  5.415896   \n",
       "7557  21.070344  28.965298  6.693076  7.225325  12.103155  5.423461   \n",
       "7558  21.164879  29.143240  6.607739  7.269915  12.353090  5.427556   \n",
       "7559  21.368275  29.190848  6.629180  7.275595  12.321595  5.395195   \n",
       "7560  21.693516  29.064414  6.554060  7.261614  12.328615  5.316804   \n",
       "\n",
       "            6          7          8         9    ...        490        491  \\\n",
       "0      1.000000   1.000000   1.000000  1.000000  ...   1.000000   1.000000   \n",
       "1      1.002179   1.007175   1.000069  1.002662  ...   0.991508   1.002770   \n",
       "2      1.010823   1.002064   0.991717  1.001828  ...   1.002777   1.015945   \n",
       "3      1.001262   1.000917   0.990394  0.995294  ...   0.997624   1.019968   \n",
       "4      1.014645   0.997730   1.000686  1.002188  ...   0.999802   1.024507   \n",
       "...         ...        ...        ...       ...  ...        ...        ...   \n",
       "7556  29.064411  57.823529  10.407945  6.281341  ...  31.776073  10.196039   \n",
       "7557  29.062760  57.442520  10.404651  6.292174  ...  31.770150  10.233151   \n",
       "7558  28.967611  57.679175  10.500847  6.311875  ...  31.739344  10.246673   \n",
       "7559  28.745747  57.699826  10.419610  6.288269  ...  31.606999  10.170938   \n",
       "7560  28.809580  57.435402  10.505760  6.334693  ...  31.817108  10.331569   \n",
       "\n",
       "            492       493        494        495        496       497  \\\n",
       "0      1.000000  1.000000   1.000000   1.000000   1.000000  1.000000   \n",
       "1      0.995098  0.993457   1.000984   0.994313   0.997466  1.008094   \n",
       "2      0.998633  1.001827   1.000546   0.995871   0.989006  1.004199   \n",
       "3      1.003976  1.009768   1.003019   1.000703   0.998041  1.017954   \n",
       "4      1.009072  1.030964   1.007603   1.001113   1.007433  1.023819   \n",
       "...         ...       ...        ...        ...        ...       ...   \n",
       "7556  14.216462  5.378443  12.580651  20.446188  11.085683  3.370112   \n",
       "7557  14.533273  5.414326  12.805955  20.252769  11.000651  3.323945   \n",
       "7558  14.676349  5.483810  12.660433  20.020179  11.084071  3.332877   \n",
       "7559  14.470347  5.484988  12.726539  20.049992  10.989991  3.306674   \n",
       "7560  14.453698  5.525018  12.815989  20.102334  10.964438  3.303515   \n",
       "\n",
       "            498        499  \n",
       "0      1.000000   1.000000  \n",
       "1      1.009282   0.995774  \n",
       "2      1.008434   1.007125  \n",
       "3      0.993500   1.010435  \n",
       "4      0.995442   1.017820  \n",
       "...         ...        ...  \n",
       "7556  26.600725  12.323764  \n",
       "7557  26.942773  12.267108  \n",
       "7558  27.218556  12.177615  \n",
       "7559  27.286021  12.172334  \n",
       "7560  27.552002  12.178798  \n",
       "\n",
       "[7561 rows x 500 columns]"
      ]
     },
     "execution_count": 18,
     "metadata": {},
     "output_type": "execute_result"
    }
   ],
   "source": [
    "# Running a Monte Carlo simulation to forecast 30 years cumulative returns\n",
    "MC_thirty_year.calc_cumulative_return()"
   ]
  },
  {
   "cell_type": "code",
   "execution_count": 19,
   "metadata": {},
   "outputs": [
    {
     "data": {
      "image/png": "[encoded data removed]",
      "text/plain": [
       "<Figure size 432x288 with 1 Axes>"
      ]
     },
     "metadata": {
      "needs_background": "light"
     },
     "output_type": "display_data"
    }
   ],
   "source": [
    "# Plot simulation outcomes\n",
    "line_plot = MC_thirty_year.plot_simulation()\n",
    "\n",
    "# Save the plot for future usage\n",
    "line_plot.get_figure().savefig(\"MC_thirty_year_sim_plot.png\", bbox_inches=\"tight\")"
   ]
  },
  {
   "cell_type": "code",
   "execution_count": null,
   "metadata": {},
   "outputs": [],
   "source": [
    "# Plot probability distribution and confidence intervals\n",
    "dist_plot = MC_thirty_year.plot_distribution()\n",
    "\n",
    "# Save the plot for future usage\n",
    "dist_plot.get_figure().savefig('MC_thirty_year_dist_plot.png',bbox_inches='tight')"
   ]
  },
  {
   "cell_type": "markdown",
   "metadata": {},
   "source": [
    "### Retirement Analysis"
   ]
  },
  {
   "cell_type": "code",
   "execution_count": null,
   "metadata": {},
   "outputs": [],
   "source": [
    "# Fetch summary statistics from the Monte Carlo simulation results\n",
    "tbl = MC_portfolio.summarize_cumulative_return()\n",
    "\n",
    "# Print summary statistics\n",
    "print(tbl)"
   ]
  },
  {
   "cell_type": "markdown",
   "metadata": {},
   "source": [
    "### Calculate the expected portfolio return at the 95% lower and upper confidence intervals based on a `$20,000` initial investment."
   ]
  },
  {
   "cell_type": "code",
   "execution_count": null,
   "metadata": {},
   "outputs": [],
   "source": [
    "# Set initial investment\n",
    "initial_investment = 20000\n",
    "\n",
    "# Use the lower and upper `95%` confidence intervals to calculate the range of the possible outcomes of our $20,000\n",
    "ci_lower = round(tbl[8]*initial_investment,2)\n",
    "ci_upper = round(tbl[9]*initial_investment,2)\n",
    "\n",
    "# Print results\n",
    "print(f\"There is a 95% chance that an initial investment of ${initial_investment} in the portfolio\"\n",
    "      f\" over the next 30 years will end within in the range of\"\n",
    "      f\" ${ci_lower} and ${ci_upper}\")"
   ]
  },
  {
   "cell_type": "markdown",
   "metadata": {},
   "source": [
    "### Calculate the expected portfolio return at the `95%` lower and upper confidence intervals based on a `50%` increase in the initial investment."
   ]
  },
  {
   "cell_type": "code",
   "execution_count": null,
   "metadata": {},
   "outputs": [],
   "source": [
    "# Set initial investment\n",
    "initial_investment = 20000 * 1.5\n",
    "\n",
    "# Use the lower and upper `95%` confidence intervals to calculate the range of the possible outcomes of our $30,000\n",
    "ci_lower = round(tbl[8]*initial_investment,2)\n",
    "ci_upper = round(tbl[9]*initial_investment,2)\n",
    "\n",
    "\n",
    "# Print results\n",
    "print(f\"There is a 95% chance that an initial investment of ${initial_investment} in the portfolio\"\n",
    "      f\" over the next 30 years will end within in the range of\"\n",
    "      f\" ${ci_lower} and ${ci_upper}\")"
   ]
  },
  {
   "cell_type": "markdown",
   "metadata": {},
   "source": [
    "## Optional Challenge - Early Retirement\n",
    "\n",
    "\n",
    "### Five Years Retirement Option"
   ]
  },
  {
   "cell_type": "code",
   "execution_count": null,
   "metadata": {},
   "outputs": [],
   "source": [
    "# Configuring a Monte Carlo simulation to forecast 5 years cumulative returns\n",
    "# Set number of simulations\n",
    "num_sims = 500\n",
    "\n",
    "# Configure a Monte Carlo simulation to forecast three years daily returns\n",
    "MC_fiveyear = MCSimulation(\n",
    "    portfolio_data = df_stock_data,\n",
    "    weights = [0.4,0.6],\n",
    "    num_simulation = num_sims,\n",
    "    num_trading_days = 252 * 5\n",
    ")"
   ]
  },
  {
   "cell_type": "code",
   "execution_count": null,
   "metadata": {},
   "outputs": [],
   "source": [
    "# Running a Monte Carlo simulation to forecast 5 years cumulative returns\n",
    "MC_fiveyear.calc_cumulative_return()"
   ]
  },
  {
   "cell_type": "code",
   "execution_count": null,
   "metadata": {},
   "outputs": [],
   "source": [
    "# Plot simulation outcomes\n",
    "# YOUR CODE HERE!"
   ]
  },
  {
   "cell_type": "code",
   "execution_count": null,
   "metadata": {},
   "outputs": [],
   "source": [
    "# Plot probability distribution and confidence intervals\n",
    "# YOUR CODE HERE!"
   ]
  },
  {
   "cell_type": "code",
   "execution_count": null,
   "metadata": {},
   "outputs": [],
   "source": [
    "# Fetch summary statistics from the Monte Carlo simulation results\n",
    "# YOUR CODE HERE!\n",
    "\n",
    "# Print summary statistics\n",
    "# YOUR CODE HERE!"
   ]
  },
  {
   "cell_type": "code",
   "execution_count": null,
   "metadata": {},
   "outputs": [],
   "source": [
    "# Set initial investment\n",
    "# YOUR CODE HERE!\n",
    "\n",
    "# Use the lower and upper `95%` confidence intervals to calculate the range of the possible outcomes of our $60,000\n",
    "# YOUR CODE HERE!\n",
    "\n",
    "# Print results\n",
    "print(f\"There is a 95% chance that an initial investment of ${initial_investment} in the portfolio\"\n",
    "      f\" over the next 5 years will end within in the range of\"\n",
    "      f\" ${ci_lower_five} and ${ci_upper_five}\")"
   ]
  },
  {
   "cell_type": "markdown",
   "metadata": {},
   "source": [
    "### Ten Years Retirement Option"
   ]
  },
  {
   "cell_type": "code",
   "execution_count": null,
   "metadata": {},
   "outputs": [],
   "source": [
    "# Configuring a Monte Carlo simulation to forecast 10 years cumulative returns\n",
    "# YOUR CODE HERE!"
   ]
  },
  {
   "cell_type": "code",
   "execution_count": null,
   "metadata": {},
   "outputs": [],
   "source": [
    "# Running a Monte Carlo simulation to forecast 10 years cumulative returns\n",
    "# YOUR CODE HERE!"
   ]
  },
  {
   "cell_type": "code",
   "execution_count": null,
   "metadata": {},
   "outputs": [],
   "source": [
    "# Plot simulation outcomes\n",
    "# YOUR CODE HERE!"
   ]
  },
  {
   "cell_type": "code",
   "execution_count": null,
   "metadata": {},
   "outputs": [],
   "source": [
    "# Plot probability distribution and confidence intervals\n",
    "# YOUR CODE HERE!"
   ]
  },
  {
   "cell_type": "code",
   "execution_count": null,
   "metadata": {},
   "outputs": [],
   "source": [
    "# Fetch summary statistics from the Monte Carlo simulation results\n",
    "# YOUR CODE HERE!\n",
    "\n",
    "# Print summary statistics\n",
    "# YOUR CODE HERE!"
   ]
  },
  {
   "cell_type": "code",
   "execution_count": null,
   "metadata": {},
   "outputs": [],
   "source": [
    "# Set initial investment\n",
    "# YOUR CODE HERE!\n",
    "\n",
    "# Use the lower and upper `95%` confidence intervals to calculate the range of the possible outcomes of our $60,000\n",
    "# YOUR CODE HERE!\n",
    "\n",
    "# Print results\n",
    "print(f\"There is a 95% chance that an initial investment of ${initial_investment} in the portfolio\"\n",
    "      f\" over the next 10 years will end within in the range of\"\n",
    "      f\" ${ci_lower_ten} and ${ci_upper_ten}\")"
   ]
  }
 ],
 "metadata": {
  "kernelspec": {
   "display_name": "Python 3",
   "language": "python",
   "name": "python3"
  },
  "language_info": {
   "codemirror_mode": {
    "name": "ipython",
    "version": 3
   },
   "file_extension": ".py",
   "mimetype": "text/x-python",
   "name": "python",
   "nbconvert_exporter": "python",
   "pygments_lexer": "ipython3",
   "version": "3.8.5"
  }
 },
 "nbformat": 4,
 "nbformat_minor": 4
}
